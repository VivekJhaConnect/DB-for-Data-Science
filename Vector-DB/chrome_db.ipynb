{
 "cells": [
  {
   "cell_type": "markdown",
   "metadata": {},
   "source": [
    "## Implemenation"
   ]
  },
  {
   "cell_type": "code",
   "execution_count": 1,
   "metadata": {},
   "outputs": [],
   "source": [
    "import os\n",
    "from langchain_community.document_loaders import TextLoader\n",
    "from langchain_text_splitters import CharacterTextSplitter\n",
    "from langchain_openai import OpenAIEmbeddings\n",
    "from langchain_community.vectorstores import FAISS\n",
    "import numpy as np\n",
    "from utils.embedding_loader import CustomOpenAIEmbeddings"
   ]
  },
  {
   "cell_type": "code",
   "execution_count": null,
   "metadata": {},
   "outputs": [],
   "source": [
    "from langchain_community.vectorstores import Chroma\n",
    "from langchain_community.embeddings import GoogleGeminiEmbeddings\n",
    "from langchain_community.embeddings import HuggingFaceEmbeddings\n"
   ]
  },
  {
   "cell_type": "markdown",
   "metadata": {},
   "source": [
    "## loading .env file"
   ]
  },
  {
   "cell_type": "code",
   "execution_count": 2,
   "metadata": {},
   "outputs": [
    {
     "data": {
      "text/plain": [
       "True"
      ]
     },
     "execution_count": 2,
     "metadata": {},
     "output_type": "execute_result"
    }
   ],
   "source": [
    "from dotenv import load_dotenv\n",
    "\n",
    "load_dotenv(dotenv_path=\"C:/Users/ADMIN/Documents/venv/.env\")"
   ]
  },
  {
   "cell_type": "code",
   "execution_count": 3,
   "metadata": {},
   "outputs": [],
   "source": [
    "\n",
    "# Custom embedding classes\n",
    "class CustomOpenAIEmbeddings(OpenAIEmbeddings):\n",
    "    def embed_documents(self, texts, vector_size: int = 1024):\n",
    "        # Get embeddings from OpenAI\n",
    "        embeddings_list = super().embed_documents(texts)\n",
    "        \n",
    "        # Truncate each embedding to 1024 dimensions\n",
    "        truncated_embeddings = []\n",
    "        for emb in embeddings_list:\n",
    "            # Take only the first 1024 dimensions\n",
    "            truncated_emb = emb[:vector_size]\n",
    "            truncated_embeddings.append(truncated_emb)\n",
    "        \n",
    "        return truncated_embeddings\n"
   ]
  },
  {
   "cell_type": "code",
   "execution_count": 6,
   "metadata": {},
   "outputs": [],
   "source": [
    "def embedding_model(model_type: str = \"OPENAI\"):\n",
    "    # Initialize custom OpenAI embeddings\n",
    "    if model_type == \"OPENAI\":\n",
    "        embeddings = CustomOpenAIEmbeddings(\n",
    "            api_key=os.environ.get(\"OPENAI_API_KEY\"),\n",
    "            model=\"text-embedding-3-small\"\n",
    "        )\n",
    "        \n",
    "    elif model_type == \"GEMINI\":\n",
    "        embeddings = GoogleGeminiEmbeddings(\n",
    "            api_key=os.environ.get(\"GEMINI_API_KEY\"),\n",
    "            model=\"gemini-1.5-flash\"\n",
    "        )\n",
    "    else:\n",
    "        embeddings = HuggingFaceEmbeddings(\n",
    "            api_key=os.environ.get(\"HUGGINGFACE_API_KEY\"),\n",
    "            model=\"sentence-transformers/all-MiniLM-L6-v2\"\n",
    "        )\n",
    "    return embeddings\n",
    "\n"
   ]
  },
  {
   "cell_type": "code",
   "execution_count": 7,
   "metadata": {},
   "outputs": [],
   "source": [
    "def load_and_create_chroma_db():\n",
    "    db_directory = \"db/faiss_db_openai\"\n",
    "    if not os.path.exists(db_directory):\n",
    "        os.makedirs(db_directory)\n",
    "    vector_store = Chroma(\n",
    "        collection_name=\"openai_db\",\n",
    "        embedding_function=embedding_model,\n",
    "        persist_directory=\"./db/chroma_db\", \n",
    "    )"
   ]
  },
  {
   "cell_type": "code",
   "execution_count": null,
   "metadata": {},
   "outputs": [],
   "source": []
  }
 ],
 "metadata": {
  "kernelspec": {
   "display_name": "venv",
   "language": "python",
   "name": "python3"
  },
  "language_info": {
   "codemirror_mode": {
    "name": "ipython",
    "version": 3
   },
   "file_extension": ".py",
   "mimetype": "text/x-python",
   "name": "python",
   "nbconvert_exporter": "python",
   "pygments_lexer": "ipython3",
   "version": "3.12.3"
  }
 },
 "nbformat": 4,
 "nbformat_minor": 2
}
