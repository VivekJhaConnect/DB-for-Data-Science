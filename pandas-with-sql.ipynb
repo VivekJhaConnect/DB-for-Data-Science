{
 "cells": [
  {
   "cell_type": "code",
   "execution_count": 1,
   "metadata": {},
   "outputs": [],
   "source": [
    "import pymysql as sql\n",
    "import pandas as pd"
   ]
  },
  {
   "cell_type": "code",
   "execution_count": null,
   "metadata": {},
   "outputs": [],
   "source": [
    "try:\n",
    "    db_connection = sql.connect(db='students', user='admin', passwd='admin', host='localhost', port=3306)\n",
    "    stud_df = pd.read_sql('SELECT * FROM Students', con= db_connection)\n",
    "    print(stud_df)\n",
    "except Exception as e:\n",
    "    print(\"Exception : {}\".format(e))\n",
    "finally:\n",
    "    db_connection.close()"
   ]
  },
  {
   "cell_type": "markdown",
   "metadata": {},
   "source": [
    "#### Insert QUERY "
   ]
  },
  {
   "cell_type": "code",
   "execution_count": null,
   "metadata": {},
   "outputs": [],
   "source": [
    "try:\n",
    "    db_connection = sql.connect(db='students', user='admin', passwd='admin', host='localhost', port=3306)\n",
    "    cursor = db_connection.cursor()\n",
    "    query = \"INSERT INTO Students VALUES(NULL, 'Derek', 'Banas', 'dbanas@aol.com', '')\"\n",
    "    cursor.execute(query)\n",
    "    db_connection.commit()\n",
    "    stud_df = pd.read_sql('SELECT * FROM Students', con= db_connection)\n",
    "    print(stud_df)\n",
    "except Exception as e:\n",
    "    print(\"Exception : {}\".format(e))\n",
    "finally:\n",
    "    db_connection.close()"
   ]
  }
 ],
 "metadata": {
  "kernelspec": {
   "display_name": "env",
   "language": "python",
   "name": "python3"
  },
  "language_info": {
   "codemirror_mode": {
    "name": "ipython",
    "version": 3
   },
   "file_extension": ".py",
   "mimetype": "text/x-python",
   "name": "python",
   "nbconvert_exporter": "python",
   "pygments_lexer": "ipython3",
   "version": "3.10.10"
  }
 },
 "nbformat": 4,
 "nbformat_minor": 2
}
